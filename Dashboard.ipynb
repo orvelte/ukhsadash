{
 "cells": [
  {
   "cell_type": "markdown",
   "metadata": {},
   "source": [
    "[DIY Disease Tracking Dashboard Kit](https://github.com/fsmeraldi/diy-covid19dash) (C) Fabrizio Smeraldi, 2020,2024 ([f.smeraldi@qmul.ac.uk](mailto:f.smeraldi@qmul.ac.uk) - [web](http://www.eecs.qmul.ac.uk/~fabri/)). This notebook is released under the [GNU GPLv3.0 or later](https://www.gnu.org/licenses/)."
   ]
  },
  {
   "cell_type": "markdown",
   "metadata": {},
   "source": [
    "# DIY Disease Tracking Dashboard"
   ]
  },
  {
   "cell_type": "markdown",
   "metadata": {},
   "source": [
    "This is a template for your DIY Disease Tracking Dashboard, to which you can add the code you developed in the previous notebooks. The dashboard will be displayed using [voila](https://voila.readthedocs.io/en/stable/index.html), a Python dashboarding tool that converts notebooks to standalone dashboards. Contrary to the other libraries we have seen, the ```voila``` package must be installed using *pip* or *conda* but it does not need to be imported - it rather acts at the level of the notebook server. Package ```voila``` is already installed on the QMUL JupyterHub as well as in the Binder - to install it locally, follow the [instructions](https://voila.readthedocs.io/en/stable/install.html) online.\n",
    "\n",
    "Broadly speaking, Voila acts by **running all the cells in your notebook** when the dashboard is first loaded; it then hides all code cells and displays all markdown cells and any outputs, including widgets. However, the code is still there in the background and handles any interaction with the widgets. To view this dashboard template rendered in Voila click [here](https://mybinder.org/v2/gh/fsmeraldi/diy-covid19dash/main?urlpath=%2Fvoila%2Frender%2FDashboard.ipynb)."
   ]
  },
  {
   "cell_type": "code",
   "execution_count": 5,
   "metadata": {},
   "outputs": [],
   "source": [
    "from IPython.display import clear_output\n",
    "import ipywidgets as wdg\n",
    "import pandas as pd\n",
    "import numpy as np\n",
    "import matplotlib.pyplot as plt\n",
    "import requests\n",
    "import time\n",
    "import json"
   ]
  },
  {
   "cell_type": "code",
   "execution_count": 6,
   "metadata": {},
   "outputs": [],
   "source": [
    "%matplotlib inline\n",
    "# make figures larger\n",
    "plt.rcParams['figure.dpi'] = 100"
   ]
  },
  {
   "cell_type": "markdown",
   "metadata": {},
   "source": [
    "## Load initial data from disk\n",
    "\n",
    "You should include \"canned\" data in ```.json``` files along with your dashboard. When the dashboard starts, it should load that data and assign it as a dictionary to the ```jsondata``` variable (the code below will be hidden when the dashboard is rendered by Voila)."
   ]
  },
  {
   "cell_type": "code",
   "execution_count": 14,
   "metadata": {},
   "outputs": [
    {
     "name": "stdout",
     "output_type": "stream",
     "text": [
      "--2024-10-23 13:51:24--  https://api.ukhsa-dashboard.data.gov.uk/themes/infectious_disease/sub_themes/respiratory/topics/COVID-19/geography_types/Nation/geographies/England/metrics/COVID-19_deaths_ONSByDay\n",
      "Resolving api.ukhsa-dashboard.data.gov.uk (api.ukhsa-dashboard.data.gov.uk)... 108.138.217.88, 108.138.217.92, 108.138.217.42, ...\n",
      "Connecting to api.ukhsa-dashboard.data.gov.uk (api.ukhsa-dashboard.data.gov.uk)|108.138.217.88|:443... connected.\n",
      "HTTP request sent, awaiting response... 200 OK\n",
      "Length: 2059 (2.0K) [application/json]\n",
      "Saving to: ‘COVID-19_deaths_ONSByDay’\n",
      "\n",
      "COVID-19_deaths_ONS 100%[===================>]   2.01K  --.-KB/s    in 0s      \n",
      "\n",
      "2024-10-23 13:51:24 (95.7 MB/s) - ‘COVID-19_deaths_ONSByDay’ saved [2059/2059]\n",
      "\n"
     ]
    }
   ],
   "source": [
    "!wget https://api.ukhsa-dashboard.data.gov.uk/themes/infectious_disease/sub_themes/respiratory/topics/COVID-19/geography_types/Nation/geographies/England/metrics/COVID-19_deaths_ONSByDay "
   ]
  },
  {
   "cell_type": "code",
   "execution_count": 18,
   "metadata": {},
   "outputs": [
    {
     "name": "stdout",
     "output_type": "stream",
     "text": [
      "{\"count\":1444,\"next\":\"https://api.ukhsa-dashboard.data.gov.uk/themes/infectious_disease/sub_themes/respiratory/topics/COVID-19/geography_types/Nation/geographies/England/metrics/COVID-19_deaths_ONSByDay?page=2\",\"previous\":null,\"results\":[{\"theme\":\"infectious_disease\",\"sub_theme\":\"respiratory\",\"topic\":\"COVID-19\",\"geography_type\":\"Nation\",\"geography\":\"England\",\"geography_code\":\"E92000001\",\"metric\":\"COVID-19_deaths_ONSByDay\",\"metric_group\":\"deaths\",\"stratum\":\"default\",\"sex\":\"all\",\"age\":\"all\",\"year\":2020,\"month\":1,\"epiweek\":5,\"date\":\"2020-01-30\",\"metric_value\":1.0,\"in_reporting_delay_period\":false},{\"theme\":\"infectious_disease\",\"sub_theme\":\"respiratory\",\"topic\":\"COVID-19\",\"geography_type\":\"Nation\",\"geography\":\"England\",\"geography_code\":\"E92000001\",\"metric\":\"COVID-19_deaths_ONSByDay\",\"metric_group\":\"deaths\",\"stratum\":\"default\",\"sex\":\"all\",\"age\":\"all\",\"year\":2020,\"month\":1,\"epiweek\":5,\"date\":\"2020-01-31\",\"metric_value\":0.0,\"in_reporting_delay_period\":false},{\"theme\":\"infectious_disease\",\"sub_theme\":\"respiratory\",\"topic\":\"COVID-19\",\"geography_type\":\"Nation\",\"geography\":\"England\",\"geography_code\":\"E92000001\",\"metric\":\"COVID-19_deaths_ONSByDay\",\"metric_group\":\"deaths\",\"stratum\":\"default\",\"sex\":\"all\",\"age\":\"all\",\"year\":2020,\"month\":2,\"epiweek\":5,\"date\":\"2020-02-01\",\"metric_value\":0.0,\"in_reporting_delay_period\":false},{\"theme\":\"infectious_disease\",\"sub_theme\":\"respiratory\",\"topic\":\"COVID-19\",\"geography_type\":\"Nation\",\"geography\":\"England\",\"geography_code\":\"E92000001\",\"metric\":\"COVID-19_deaths_ONSByDay\",\"metric_group\":\"deaths\",\"stratum\":\"default\",\"sex\":\"all\",\"age\":\"all\",\"year\":2020,\"month\":2,\"epiweek\":5,\"date\":\"2020-02-02\",\"metric_value\":1.0,\"in_reporting_delay_period\":false},{\"theme\":\"infectious_disease\",\"sub_theme\":\"respiratory\",\"topic\":\"COVID-19\",\"geography_type\":\"Nation\",\"geography\":\"England\",\"geography_code\":\"E92000001\",\"metric\":\"COVID-19_deaths_ONSByDay\",\"metric_group\":\"deaths\",\"stratum\":\"default\",\"sex\":\"all\",\"age\":\"all\",\"year\":2020,\"month\":2,\"epiweek\":6,\"date\":\"2020-02-03\",\"metric_value\":0.0,\"in_reporting_delay_period\":false}]}"
     ]
    }
   ],
   "source": [
    "!cat COVID-19_deaths_ONSByDay"
   ]
  },
  {
   "cell_type": "code",
   "execution_count": 42,
   "metadata": {},
   "outputs": [
    {
     "data": {
      "text/plain": [
       "{'count': 1444,\n",
       " 'next': 'https://api.ukhsa-dashboard.data.gov.uk/themes/infectious_disease/sub_themes/respiratory/topics/COVID-19/geography_types/Nation/geographies/England/metrics/COVID-19_deaths_ONSByDay?page=2',\n",
       " 'previous': None,\n",
       " 'results': [{'theme': 'infectious_disease',\n",
       "   'sub_theme': 'respiratory',\n",
       "   'topic': 'COVID-19',\n",
       "   'geography_type': 'Nation',\n",
       "   'geography': 'England',\n",
       "   'geography_code': 'E92000001',\n",
       "   'metric': 'COVID-19_deaths_ONSByDay',\n",
       "   'metric_group': 'deaths',\n",
       "   'stratum': 'default',\n",
       "   'sex': 'all',\n",
       "   'age': 'all',\n",
       "   'year': 2020,\n",
       "   'month': 1,\n",
       "   'epiweek': 5,\n",
       "   'date': '2020-01-30',\n",
       "   'metric_value': 1.0,\n",
       "   'in_reporting_delay_period': False},\n",
       "  {'theme': 'infectious_disease',\n",
       "   'sub_theme': 'respiratory',\n",
       "   'topic': 'COVID-19',\n",
       "   'geography_type': 'Nation',\n",
       "   'geography': 'England',\n",
       "   'geography_code': 'E92000001',\n",
       "   'metric': 'COVID-19_deaths_ONSByDay',\n",
       "   'metric_group': 'deaths',\n",
       "   'stratum': 'default',\n",
       "   'sex': 'all',\n",
       "   'age': 'all',\n",
       "   'year': 2020,\n",
       "   'month': 1,\n",
       "   'epiweek': 5,\n",
       "   'date': '2020-01-31',\n",
       "   'metric_value': 0.0,\n",
       "   'in_reporting_delay_period': False},\n",
       "  {'theme': 'infectious_disease',\n",
       "   'sub_theme': 'respiratory',\n",
       "   'topic': 'COVID-19',\n",
       "   'geography_type': 'Nation',\n",
       "   'geography': 'England',\n",
       "   'geography_code': 'E92000001',\n",
       "   'metric': 'COVID-19_deaths_ONSByDay',\n",
       "   'metric_group': 'deaths',\n",
       "   'stratum': 'default',\n",
       "   'sex': 'all',\n",
       "   'age': 'all',\n",
       "   'year': 2020,\n",
       "   'month': 2,\n",
       "   'epiweek': 5,\n",
       "   'date': '2020-02-01',\n",
       "   'metric_value': 0.0,\n",
       "   'in_reporting_delay_period': False},\n",
       "  {'theme': 'infectious_disease',\n",
       "   'sub_theme': 'respiratory',\n",
       "   'topic': 'COVID-19',\n",
       "   'geography_type': 'Nation',\n",
       "   'geography': 'England',\n",
       "   'geography_code': 'E92000001',\n",
       "   'metric': 'COVID-19_deaths_ONSByDay',\n",
       "   'metric_group': 'deaths',\n",
       "   'stratum': 'default',\n",
       "   'sex': 'all',\n",
       "   'age': 'all',\n",
       "   'year': 2020,\n",
       "   'month': 2,\n",
       "   'epiweek': 5,\n",
       "   'date': '2020-02-02',\n",
       "   'metric_value': 1.0,\n",
       "   'in_reporting_delay_period': False},\n",
       "  {'theme': 'infectious_disease',\n",
       "   'sub_theme': 'respiratory',\n",
       "   'topic': 'COVID-19',\n",
       "   'geography_type': 'Nation',\n",
       "   'geography': 'England',\n",
       "   'geography_code': 'E92000001',\n",
       "   'metric': 'COVID-19_deaths_ONSByDay',\n",
       "   'metric_group': 'deaths',\n",
       "   'stratum': 'default',\n",
       "   'sex': 'all',\n",
       "   'age': 'all',\n",
       "   'year': 2020,\n",
       "   'month': 2,\n",
       "   'epiweek': 6,\n",
       "   'date': '2020-02-03',\n",
       "   'metric_value': 0.0,\n",
       "   'in_reporting_delay_period': False}]}"
      ]
     },
     "execution_count": 42,
     "metadata": {},
     "output_type": "execute_result"
    }
   ],
   "source": [
    "import requests\n",
    "requests.get(\"https://api.ukhsa-dashboard.data.gov.uk/themes\"\n",
    "             \"/infectious_disease/sub_themes/respiratory/topics\"\n",
    "             \"/COVID-19/geography_types/Nation/geographies/England\"\n",
    "             \"/metrics/COVID-19_deaths_ONSByDay\").json()\n",
    "\n",
    "#jsondata={}\n",
    " \n",
    "#,params={'age': 15_44, 'sex': f}).json()"
   ]
  },
  {
   "cell_type": "code",
   "execution_count": 43,
   "metadata": {},
   "outputs": [],
   "source": [
    "# Load JSON files and store the raw data in some variable. Edit as appropriate\n",
    "jsondata={'count': 1444,\n",
    " 'next': 'https://api.ukhsa-dashboard.data.gov.uk/themes/infectious_disease/sub_themes/respiratory/topics/COVID-19/geography_types/Nation/geographies/England/metrics/COVID-19_deaths_ONSByDay?page=2',\n",
    " 'previous': None,\n",
    " 'results': [{'theme': 'infectious_disease',\n",
    "   'sub_theme': 'respiratory',\n",
    "   'topic': 'COVID-19',\n",
    "   'geography_type': 'Nation',\n",
    "   'geography': 'England',\n",
    "   'geography_code': 'E92000001',\n",
    "   'metric': 'COVID-19_deaths_ONSByDay',\n",
    "   'metric_group': 'deaths',\n",
    "   'stratum': 'default',\n",
    "   'sex': 'all',\n",
    "   'age': 'all',\n",
    "   'year': 2020,\n",
    "   'month': 1,\n",
    "   'epiweek': 5,\n",
    "   'date': '2020-01-30',\n",
    "   'metric_value': 1.0,\n",
    "   'in_reporting_delay_period': False},\n",
    "  {'theme': 'infectious_disease',\n",
    "   'sub_theme': 'respiratory',\n",
    "   'topic': 'COVID-19',\n",
    "   'geography_type': 'Nation',\n",
    "   'geography': 'England',\n",
    "   'geography_code': 'E92000001',\n",
    "   'metric': 'COVID-19_deaths_ONSByDay',\n",
    "   'metric_group': 'deaths',\n",
    "   'stratum': 'default',\n",
    "   'sex': 'all',\n",
    "   'age': 'all',\n",
    "   'year': 2020,\n",
    "   'month': 1,\n",
    "   'epiweek': 5,\n",
    "   'date': '2020-01-31',\n",
    "   'metric_value': 0.0,\n",
    "   'in_reporting_delay_period': False},\n",
    "  {'theme': 'infectious_disease',\n",
    "   'sub_theme': 'respiratory',\n",
    "   'topic': 'COVID-19',\n",
    "   'geography_type': 'Nation',\n",
    "   'geography': 'England',\n",
    "   'geography_code': 'E92000001',\n",
    "   'metric': 'COVID-19_deaths_ONSByDay',\n",
    "   'metric_group': 'deaths',\n",
    "   'stratum': 'default',\n",
    "   'sex': 'all',\n",
    "   'age': 'all',\n",
    "   'year': 2020,\n",
    "   'month': 2,\n",
    "   'epiweek': 5,\n",
    "   'date': '2020-02-01',\n",
    "   'metric_value': 0.0,\n",
    "   'in_reporting_delay_period': False},\n",
    "  {'theme': 'infectious_disease',\n",
    "   'sub_theme': 'respiratory',\n",
    "   'topic': 'COVID-19',\n",
    "   'geography_type': 'Nation',\n",
    "   'geography': 'England',\n",
    "   'geography_code': 'E92000001',\n",
    "   'metric': 'COVID-19_deaths_ONSByDay',\n",
    "   'metric_group': 'deaths',\n",
    "   'stratum': 'default',\n",
    "   'sex': 'all',\n",
    "   'age': 'all',\n",
    "   'year': 2020,\n",
    "   'month': 2,\n",
    "   'epiweek': 5,\n",
    "   'date': '2020-02-02',\n",
    "   'metric_value': 1.0,\n",
    "   'in_reporting_delay_period': False},\n",
    "  {'theme': 'infectious_disease',\n",
    "   'sub_theme': 'respiratory',\n",
    "   'topic': 'COVID-19',\n",
    "   'geography_type': 'Nation',\n",
    "   'geography': 'England',\n",
    "   'geography_code': 'E92000001',\n",
    "   'metric': 'COVID-19_deaths_ONSByDay',\n",
    "   'metric_group': 'deaths',\n",
    "   'stratum': 'default',\n",
    "   'sex': 'all',\n",
    "   'age': 'all',\n",
    "   'year': 2020,\n",
    "   'month': 2,\n",
    "   'epiweek': 6,\n",
    "   'date': '2020-02-03',\n",
    "   'metric_value': 0.0,\n",
    "   'in_reporting_delay_period': False}]}"
   ]
  },
  {
   "cell_type": "markdown",
   "metadata": {},
   "source": [
    "## Wrangle the data\n",
    "\n",
    "The dashboard should contain the logic to wrangle the raw data into a ```DataFrame``` (or more than one, as required) that will be used for plotting. The wrangling code should be put into a function and called on the data from the JSON file (we'll need to call it again on any data downloaded from the API).  In this template, we just pretend we are wrangling ```rawdata``` and instead generate a dataframe with some random data"
   ]
  },
  {
   "cell_type": "code",
   "execution_count": 44,
   "metadata": {},
   "outputs": [],
   "source": [
    "\n",
    "\n",
    "def wrangle_data(rawdata):\n",
    "    \"\"\" Parameters: rawdata - data from json file or API call. Returns a dataframe.\n",
    "    Edit to include the code that wrangles the data, creates the dataframe and fills it in. \"\"\"\n",
    "    df=pd.DataFrame(index=range(0,100), columns=['One', 'Two'])\n",
    "    # we have no real data to wrangle, so we just generate two random walks.\n",
    "    one=two=0.0\n",
    "    for i in range(0,100):\n",
    "        df.loc[i,'One']=one\n",
    "        df.loc[i,'Two']=two\n",
    "        one+=np.random.randn()\n",
    "        two+=2*np.random.randn()\n",
    "    return df\n",
    "\n",
    "# putting the wrangling code into a function allows you to call it again after refreshing the data through \n",
    "# the API. You should call the function directly on the JSON data when the dashboard starts, by including \n",
    "# the call in this cell as below:\n",
    "df=wrangle_data(jsondata) # df is the dataframe for plotting"
   ]
  },
  {
   "cell_type": "markdown",
   "metadata": {},
   "source": [
    "## Download current data"
   ]
  },
  {
   "cell_type": "markdown",
   "metadata": {},
   "source": [
    "Give your users an option to refresh the dataset - a \"refresh\" button will do. The button callback should\n",
    "* call the code that accesses the API and download some fresh raw data;\n",
    "* wrangle that data into a dataframe and update the corresponding (global) variable for plotting (here, ```df```);\n",
    "* optionally: force a redraw of the graph and give the user some fredback.\n",
    "\n",
    "Once you get it to work, you may want to wrap your API call inside an exception handler, so that the user is informed, the \"canned\" data are not overwritten and nothing crashes if for any reason the server cannot be reached or data are not available.\n",
    "\n",
    "After you refresh the data, graphs will not update until the user interacts with a widget. You can trick ```iPywidgets``` into redrawing the graph by simulating interaction, as in the ```refresh_graph``` function we define in the Graph and Analysis section below.\n",
    "\n",
    "In this example, clicking on the button below just generates some more random data and refreshes the graph. The button should read *Fetch Data*. If you see anything else, take a deep breath :)"
   ]
  },
  {
   "cell_type": "code",
   "execution_count": 3,
   "metadata": {},
   "outputs": [
    {
     "ename": "IndentationError",
     "evalue": "unexpected indent (2329535989.py, line 8)",
     "output_type": "error",
     "traceback": [
      "\u001b[0;36m  Cell \u001b[0;32mIn[3], line 8\u001b[0;36m\u001b[0m\n\u001b[0;31m    class APIwrapper:\u001b[0m\n\u001b[0m    ^\u001b[0m\n\u001b[0;31mIndentationError\u001b[0m\u001b[0;31m:\u001b[0m unexpected indent\n"
     ]
    }
   ],
   "source": [
    "# Place your API access code in this function. Do not call this function directly; it will be called by \n",
    "# the button callback. \n",
    "\n",
    "import requests\n",
    "import time\n",
    "\n",
    "def access_api():\n",
    "    class APIwrapper:\n",
    "    # class variables shared among all instances\n",
    "        _access_point=\"https://api.ukhsa-dashboard.data.gov.uk\"\n",
    "    _last_access=0.0 # time of last api access\n",
    "    \n",
    "    def __init__(self, theme, sub_theme, topic, geography_type, geography, metric):\n",
    "        \"\"\" Init the APIwrapper object, constructing the endpoint from the structure\n",
    "        parameters \"\"\"\n",
    "        # build the path with all the required structure parameters\n",
    "        url_path=(f\"/themes/{theme}/sub_themes/{sub_theme}/topics/{topic}/geography_types/\" +\n",
    "                  f\"{geography_type}/geographies/{geography}/metrics/{metric}\")\n",
    "        # our starting API endpoint\n",
    "        self._start_url=APIwrapper._access_point+url_path\n",
    "        self._filters=None\n",
    "        self._page_size=-1\n",
    "        # will contain the number of items\n",
    "        self.count=None\n",
    "\n",
    "    def get_page(self, filters={}, page_size=5):\n",
    "        \"\"\" Access the API and download the next page of data. Sets the count\n",
    "        attribute to the total number of items available for this query. Changing\n",
    "        filters or page_size will cause get_page to restart from page 1. Rate\n",
    "        limited to three request per second. The page_size parameter sets the number\n",
    "        of data points in one response page (maximum 365); use the default value \n",
    "        for debugging your structure and filters, increase when you start looping \n",
    "        over all pages. \"\"\"\n",
    "        # Check page size is within range\n",
    "        if page_size>365:\n",
    "            raise ValueError(\"Max supported page size is 365\")\n",
    "        # restart from first page if page or filters have changed\n",
    "        if filters!=self._filters or page_size!=self._page_size:\n",
    "            self._filters=filters\n",
    "            self._page_size=page_size\n",
    "            self._next_url=self._start_url\n",
    "        # signal the end of data condition\n",
    "        if self._next_url==None: \n",
    "            return [] # we already fetched the last page\n",
    "        # simple rate limiting to avoid bans\n",
    "        curr_time=time.time() # Unix time: number of seconds since the Epoch\n",
    "        deltat=curr_time-APIwrapper._last_access\n",
    "        if deltat<0.33: # max 3 requests/second\n",
    "            time.sleep(0.33-deltat)\n",
    "        APIwrapper._last_access=curr_time\n",
    "        # build parameter dictionary by removing all the None\n",
    "        # values from filters and adding page_size\n",
    "        parameters={x: y for x, y in filters.items() if y!=None}\n",
    "        parameters['page_size']=page_size\n",
    "        # the page parameter is already included in _next_url.\n",
    "        # This is the API access. Response is a dictionary with various keys.\n",
    "        # the .json() method decodes the response into Python object (dictionaries,\n",
    "        # lists; 'null' values are translated as None).\n",
    "        response = requests.get(self._next_url, params=parameters).json()\n",
    "        # update url so we'll fetch the next page\n",
    "        self._next_url=response['next']\n",
    "        self.count=response['count']\n",
    "        # data are in the nested 'results' list\n",
    "        return response['results'] \n",
    "    \"\"\" Accesses the UKHSA API. Return data as a like-for-like replacement for the \"canned\" data loaded from the JSON file. \"\"\"\n",
    "    \n",
    "    return {} # return data read from the API"
   ]
  },
  {
   "cell_type": "code",
   "execution_count": 4,
   "metadata": {},
   "outputs": [],
   "source": [
    "import requests\n",
    "import time\n",
    "\n",
    "class APIwrapper:\n",
    "    # class variables shared among all instances\n",
    "    _access_point=\"https://api.ukhsa-dashboard.data.gov.uk\"\n",
    "    _last_access=0.0 # time of last api access\n",
    "    \n",
    "    def __init__(self, theme, sub_theme, topic, geography_type, geography, metric):\n",
    "        \"\"\" Init the APIwrapper object, constructing the endpoint from the structure\n",
    "        parameters \"\"\"\n",
    "        # build the path with all the required structure parameters\n",
    "        url_path=(f\"/themes/{theme}/sub_themes/{sub_theme}/topics/{topic}/geography_types/\" +\n",
    "                  f\"{geography_type}/geographies/{geography}/metrics/{metric}\")\n",
    "        # our starting API endpoint\n",
    "        self._start_url=APIwrapper._access_point+url_path\n",
    "        self._filters=None\n",
    "        self._page_size=-1\n",
    "        # will contain the number of items\n",
    "        self.count=None\n",
    "\n",
    "    def get_page(self, filters={}, page_size=5):\n",
    "        \"\"\" Access the API and download the next page of data. Sets the count\n",
    "        attribute to the total number of items available for this query. Changing\n",
    "        filters or page_size will cause get_page to restart from page 1. Rate\n",
    "        limited to three request per second. The page_size parameter sets the number\n",
    "        of data points in one response page (maximum 365); use the default value \n",
    "        for debugging your structure and filters, increase when you start looping \n",
    "        over all pages. \"\"\"\n",
    "# Check page size is within range\n",
    "        if page_size>365:\n",
    "            raise ValueError(\"Max supported page size is 365\")\n",
    "        # restart from first page if page or filters have changed\n",
    "        if filters!=self._filters or page_size!=self._page_size:\n",
    "            self._filters=filters\n",
    "            self._page_size=page_size\n",
    "            self._next_url=self._start_url\n",
    "        # signal the end of data condition\n",
    "        if self._next_url==None: \n",
    "            return [] # we already fetched the last page\n",
    "        # simple rate limiting to avoid bans\n",
    "        curr_time=time.time() # Unix time: number of seconds since the Epoch\n",
    "        deltat=curr_time-APIwrapper._last_access\n",
    "        if deltat<0.33: # max 3 requests/second\n",
    "            time.sleep(0.33-deltat)\n",
    "        APIwrapper._last_access=curr_time\n",
    "        # build parameter dictionary by removing all the None\n",
    "        # values from filters and adding page_size\n",
    "        parameters={x: y for x, y in filters.items() if y!=None}\n",
    "        parameters['page_size']=page_size\n",
    "        # the page parameter is already included in _next_url.\n",
    "        # This is the API access. Response is a dictionary with various keys.\n",
    "        # the .json() method decodes the response into Python object (dictionaries,\n",
    "        # lists; 'null' values are translated as None).\n",
    "        response = requests.get(self._next_url, params=parameters).json()\n",
    "        # update url so we'll fetch the next page\n",
    "        self._next_url=response['next']\n",
    "        self.count=response['count']\n",
    "        # data are in the nested 'results' list\n",
    "        return response['results'] "
   ]
  },
  {
   "cell_type": "code",
   "execution_count": 5,
   "metadata": {},
   "outputs": [
    {
     "name": "stdout",
     "output_type": "stream",
     "text": [
      "1444\n",
      "[{'theme': 'infectious_disease', 'sub_theme': 'respiratory', 'topic': 'COVID-19', 'geography_type': 'Nation', 'geography': 'England', 'geography_code': 'E92000001', 'metric': 'COVID-19_deaths_ONSByDay', 'metric_group': 'deaths', 'stratum': 'default', 'sex': 'all', 'age': 'all', 'year': 2020, 'month': 1, 'epiweek': 5, 'date': '2020-01-30', 'metric_value': 1.0, 'in_reporting_delay_period': False}, {'theme': 'infectious_disease', 'sub_theme': 'respiratory', 'topic': 'COVID-19', 'geography_type': 'Nation', 'geography': 'England', 'geography_code': 'E92000001', 'metric': 'COVID-19_deaths_ONSByDay', 'metric_group': 'deaths', 'stratum': 'default', 'sex': 'all', 'age': 'all', 'year': 2020, 'month': 1, 'epiweek': 5, 'date': '2020-01-31', 'metric_value': 0.0, 'in_reporting_delay_period': False}, {'theme': 'infectious_disease', 'sub_theme': 'respiratory', 'topic': 'COVID-19', 'geography_type': 'Nation', 'geography': 'England', 'geography_code': 'E92000001', 'metric': 'COVID-19_deaths_ONSByDay', 'metric_group': 'deaths', 'stratum': 'default', 'sex': 'all', 'age': 'all', 'year': 2020, 'month': 2, 'epiweek': 5, 'date': '2020-02-01', 'metric_value': 0.0, 'in_reporting_delay_period': False}, {'theme': 'infectious_disease', 'sub_theme': 'respiratory', 'topic': 'COVID-19', 'geography_type': 'Nation', 'geography': 'England', 'geography_code': 'E92000001', 'metric': 'COVID-19_deaths_ONSByDay', 'metric_group': 'deaths', 'stratum': 'default', 'sex': 'all', 'age': 'all', 'year': 2020, 'month': 2, 'epiweek': 5, 'date': '2020-02-02', 'metric_value': 1.0, 'in_reporting_delay_period': False}, {'theme': 'infectious_disease', 'sub_theme': 'respiratory', 'topic': 'COVID-19', 'geography_type': 'Nation', 'geography': 'England', 'geography_code': 'E92000001', 'metric': 'COVID-19_deaths_ONSByDay', 'metric_group': 'deaths', 'stratum': 'default', 'sex': 'all', 'age': 'all', 'year': 2020, 'month': 2, 'epiweek': 6, 'date': '2020-02-03', 'metric_value': 0.0, 'in_reporting_delay_period': False}]\n"
     ]
    }
   ],
   "source": [
    "structure={\"theme\": \"infectious_disease\", \n",
    "           \"sub_theme\": \"respiratory\",\n",
    "           \"topic\": \"COVID-19\",\n",
    "           \"geography_type\": \"Nation\", \n",
    "           \"geography\": \"England\"}\n",
    "\n",
    "structure[\"metric\"]=\"COVID-19_deaths_ONSByDay\" \n",
    "\n",
    "api=APIwrapper(**structure)\n",
    "data=api.get_page() # default size is 5\n",
    "print(api.count)\n",
    "print(data)\n",
    "\n",
    "filters={\"stratum\" : None, # Smallest subgroup a metric can be broken down into e.g. ethnicity, testing pillar\n",
    "         \"age\": 15_44, # Smallest subgroup a metric can be broken down into e.g. 15_44 for the age group of 15-44 years\n",
    "         \"sex\": 'f', #  Patient gender e.g. 'm' for Male, 'f' for Female or 'all' for all genders\n",
    "         \"year\": 2022, #  Epi year of the metrics value (important for annual metrics) e.g. 2020\n",
    "         \"month\": None, # Epi month of the metric value (important for monthly metrics) e.g. 12\n",
    "         \"epiweek\" :None, # Epi week of the metric value (important for weekly metrics) e.g. 30\n",
    "         \"date\" : None, # The date which this metric value was recorded in the format YYYY-MM-DD e.g. 2020-07-20\n",
    "         \"in_reporting_delay_period\": None # Boolean indicating whether the data point is considered to be subject to retrospective updates\n",
    "        }"
   ]
  },
  {
   "cell_type": "code",
   "execution_count": 6,
   "metadata": {},
   "outputs": [
    {
     "name": "stdout",
     "output_type": "stream",
     "text": [
      "0\n",
      "[]\n"
     ]
    }
   ],
   "source": [
    "data_2022=api.get_page(filters, page_size=3)\n",
    "print(api.count)\n",
    "print(data_2022)"
   ]
  },
  {
   "cell_type": "code",
   "execution_count": 7,
   "metadata": {},
   "outputs": [
    {
     "ename": "NameError",
     "evalue": "name 'wdg' is not defined",
     "output_type": "error",
     "traceback": [
      "\u001b[0;31m---------------------------------------------------------------------------\u001b[0m",
      "\u001b[0;31mNameError\u001b[0m                                 Traceback (most recent call last)",
      "Cell \u001b[0;32mIn[7], line 26\u001b[0m\n\u001b[1;32m     22\u001b[0m     apibutton\u001b[38;5;241m.\u001b[39micon\u001b[38;5;241m=\u001b[39m\u001b[38;5;124m\"\u001b[39m\u001b[38;5;124mcheck\u001b[39m\u001b[38;5;124m\"\u001b[39m\n\u001b[1;32m     23\u001b[0m     \u001b[38;5;66;03m# apibutton.disabled=True\u001b[39;00m\n\u001b[0;32m---> 26\u001b[0m apibutton\u001b[38;5;241m=\u001b[39m\u001b[43mwdg\u001b[49m\u001b[38;5;241m.\u001b[39mButton(\n\u001b[1;32m     27\u001b[0m     description\u001b[38;5;241m=\u001b[39m\u001b[38;5;124m'\u001b[39m\u001b[38;5;124mPANIC\u001b[39m\u001b[38;5;124m'\u001b[39m, \u001b[38;5;66;03m# you may want to change this...\u001b[39;00m\n\u001b[1;32m     28\u001b[0m     disabled\u001b[38;5;241m=\u001b[39m\u001b[38;5;28;01mFalse\u001b[39;00m,\n\u001b[1;32m     29\u001b[0m     button_style\u001b[38;5;241m=\u001b[39m\u001b[38;5;124m'\u001b[39m\u001b[38;5;124mdanger\u001b[39m\u001b[38;5;124m'\u001b[39m, \u001b[38;5;66;03m# 'success', 'info', 'warning', 'danger' or ''\u001b[39;00m\n\u001b[1;32m     30\u001b[0m     tooltip\u001b[38;5;241m=\u001b[39m\u001b[38;5;124m\"\u001b[39m\u001b[38;5;124mKeep calm and carry on\u001b[39m\u001b[38;5;124m\"\u001b[39m,\n\u001b[1;32m     31\u001b[0m     \u001b[38;5;66;03m# FontAwesome names without the `fa-` prefix - try \"download\"\u001b[39;00m\n\u001b[1;32m     32\u001b[0m     icon\u001b[38;5;241m=\u001b[39m\u001b[38;5;124m'\u001b[39m\u001b[38;5;124mexclamation-triangle\u001b[39m\u001b[38;5;124m'\u001b[39m\n\u001b[1;32m     33\u001b[0m )\n\u001b[1;32m     35\u001b[0m \u001b[38;5;66;03m# remember to register your button callback function with the button\u001b[39;00m\n\u001b[1;32m     36\u001b[0m apibutton\u001b[38;5;241m.\u001b[39mon_click(api_button_callback) \u001b[38;5;66;03m# the name of your function inside these brackets\u001b[39;00m\n",
      "\u001b[0;31mNameError\u001b[0m: name 'wdg' is not defined"
     ]
    }
   ],
   "source": [
    "# Printout from this function will be lost in Voila unless captured in an\n",
    "# output widget - therefore, we give feedback to the user by changing the \n",
    "# appearance of the button\n",
    "def api_button_callback(button):\n",
    "    \"\"\" Button callback - it must take the button as its parameter (unused in this case).\n",
    "    Accesses API, wrangles data, updates global variable df used for plotting. \"\"\"\n",
    "    # Get fresh data from the API. If you have time, include some error handling\n",
    "    # around this call.\n",
    "    apidata=access_api()\n",
    "    # wrangle the data and overwrite the dataframe for plotting\n",
    "    global df\n",
    "    df=wrangle_data(apidata)\n",
    "    # the graph won't refresh until the user interacts with the widget.\n",
    "    # this function simulates the interaction, see Graph and Analysis below.\n",
    "    # The function needs to be adapted to your graph; you can omit this call\n",
    "    # in the first instance\n",
    "    refresh_graph()\n",
    "    # after all is done, you can switch the icon on the button to a \"check\" sign\n",
    "    # and optionally disable the button - it won't be needed again. If you are \n",
    "    # implementing error handling, you can use icons \"unlink\" or \"times\" and \n",
    "    # change the button text to \"Unavailable\" when the api call fails.\n",
    "    apibutton.icon=\"check\"\n",
    "    # apibutton.disabled=True\n",
    "\n",
    "    \n",
    "apibutton=wdg.Button(\n",
    "    description='PANIC', # you may want to change this...\n",
    "    disabled=False,\n",
    "    button_style='danger', # 'success', 'info', 'warning', 'danger' or ''\n",
    "    tooltip=\"Keep calm and carry on\",\n",
    "    # FontAwesome names without the `fa-` prefix - try \"download\"\n",
    "    icon='exclamation-triangle'\n",
    ")\n",
    "\n",
    "# remember to register your button callback function with the button\n",
    "apibutton.on_click(api_button_callback) # the name of your function inside these brackets\n",
    "\n",
    "display(apibutton)\n",
    "\n",
    "# run all cells before clicking on this button"
   ]
  },
  {
   "cell_type": "markdown",
   "metadata": {},
   "source": [
    "## Graphs and Analysis"
   ]
  },
  {
   "cell_type": "markdown",
   "metadata": {},
   "source": [
    "Include at least one graph with interactive controls, as well as some instructions for the user and/or comments on what the graph represents and how it should be explored (this example shows two random walks)"
   ]
  },
  {
   "cell_type": "code",
   "execution_count": null,
   "metadata": {},
   "outputs": [],
   "source": [
    "def plot_random_walk(walk):\n",
    "    \"\"\" Our sample graph plotting function \"\"\"\n",
    "    df[walk].plot()\n",
    "    plt.show() # important! update won't work properly without this\n",
    "\n",
    "# a sample widget\n",
    "whichwalk=wdg.Dropdown(\n",
    "    options=['One', 'Two'],\n",
    "    value='One',\n",
    "    description='Walk no: ',\n",
    "    disabled=False,\n",
    ")\n",
    "\n",
    "def refresh_graph():\n",
    "    \"\"\" We change the value of the widget in order to force a redraw of the graph;\n",
    "    this is useful when the data have been updated. This is a bit of a gimmick; it\n",
    "    needs to be customised for one of your widgets. \"\"\"\n",
    "    current=whichwalk.value\n",
    "    if current==whichwalk.options[0]:\n",
    "        other=whichwalk.options[1]\n",
    "    else:\n",
    "        other=whichwalk.options[0]\n",
    "    whichwalk.value=other # forces the redraw\n",
    "    whichwalk.value=current # now we can change it back\n",
    "    \n",
    "# connect the plotting function and the widget    \n",
    "graph=wdg.interactive_output(plot_random_walk, {'walk': whichwalk})\n",
    "\n",
    "# actually displays the graph\n",
    "display(whichwalk, graph)"
   ]
  },
  {
   "cell_type": "markdown",
   "metadata": {
    "jp-MarkdownHeadingCollapsed": true
   },
   "source": [
    "## Deploying the dashboard\n",
    "\n",
    "Once your code is ready and you are satisfied with the appearance of the graphs, replace all the text boxes above with the explanations you would like a dashboard user to see. The next step is deploying the dashboard online - there are several [options](https://voila.readthedocs.io/en/stable/deploy.html) for this, we suggest deploying as a [Binder](https://mybinder.org/). This is basically the same technique that has been used to package this tutorial and to deploy this template dashboard. The instructions may seem a bit involved, but the actual steps are surprisingly easy - we will be going through them together during a live session. You will need an account on [GitHub](https://github.com/) for this - if you don't have one already, now it's the time to create it. "
   ]
  },
  {
   "cell_type": "markdown",
   "metadata": {},
   "source": [
    "**Author and License** Remember that if you deploy your dashboard as a Binder it will be publicly accessible. Change the copyright notice and take credit for your work! Also acknowledge your sources and the conditions of the license by including this notice: \"Based on UK Government [data](https://ukhsa-dashboard.data.gov.uk/) published by the [UK Health Security Agency](https://www.gov.uk/government/organisations/uk-health-security-agency) and on the [DIY Disease Tracking Dashboard Kit](https://github.com/fsmeraldi/diy-covid19dash) by Fabrizio Smeraldi. Released under the [GNU GPLv3.0 or later](https://www.gnu.org/licenses/).\""
   ]
  }
 ],
 "metadata": {
  "kernelspec": {
   "display_name": "Python 3 (ipykernel)",
   "language": "python",
   "name": "python3"
  },
  "language_info": {
   "codemirror_mode": {
    "name": "ipython",
    "version": 3
   },
   "file_extension": ".py",
   "mimetype": "text/x-python",
   "name": "python",
   "nbconvert_exporter": "python",
   "pygments_lexer": "ipython3",
   "version": "3.11.9"
  }
 },
 "nbformat": 4,
 "nbformat_minor": 4
}
